{
 "cells": [
  {
   "cell_type": "code",
   "execution_count": 3,
   "metadata": {
    "colab": {
     "base_uri": "https://localhost:8080/"
    },
    "executionInfo": {
     "elapsed": 3050,
     "status": "ok",
     "timestamp": 1659444212213,
     "user": {
      "displayName": "mahdi karami",
      "userId": "04971533198241835395"
     },
     "user_tz": -270
    },
    "id": "4BG9EiphdiIb",
    "outputId": "22426a46-0776-4fe4-ed59-0a4a51086f1a"
   },
   "outputs": [
    {
     "name": "stdout",
     "output_type": "stream",
     "text": [
      "Drive already mounted at /content/drive; to attempt to forcibly remount, call drive.mount(\"/content/drive\", force_remount=True).\n"
     ]
    }
   ],
   "source": [
    "from google.colab import drive\n",
    "drive.mount('/content/drive')\n",
    "training_file = '/content/drive/MyDrive/all/ML/warpeace_input.txt'\n",
    "raw_text = open(training_file, 'r').read()\n",
    "raw_text = raw_text.lower()\n"
   ]
  },
  {
   "cell_type": "code",
   "execution_count": 4,
   "metadata": {
    "colab": {
     "base_uri": "https://localhost:8080/"
    },
    "executionInfo": {
     "elapsed": 17,
     "status": "ok",
     "timestamp": 1659444212214,
     "user": {
      "displayName": "mahdi karami",
      "userId": "04971533198241835395"
     },
     "user_tz": -270
    },
    "id": "vOys7-EhmNnq",
    "outputId": "905f3c33-931d-4205-ec5d-5db7a7862116"
   },
   "outputs": [
    {
     "name": "stdout",
     "output_type": "stream",
     "text": [
      "﻿the project gutenberg ebook of war and peace, by leo tolstoy\n",
      "\n",
      "this ebook is for the use of anyone anywhere in the united states and\n",
      "most other parts of the world at no cost and with almost no restric\n"
     ]
    }
   ],
   "source": [
    "print(raw_text[:200])"
   ]
  },
  {
   "cell_type": "code",
   "execution_count": 5,
   "metadata": {
    "colab": {
     "base_uri": "https://localhost:8080/"
    },
    "executionInfo": {
     "elapsed": 15,
     "status": "ok",
     "timestamp": 1659444212214,
     "user": {
      "displayName": "mahdi karami",
      "userId": "04971533198241835395"
     },
     "user_tz": -270
    },
    "id": "UXucy-vKmUsB",
    "outputId": "1ad39f92-4329-4709-86d8-593feaf31622"
   },
   "outputs": [
    {
     "name": "stdout",
     "output_type": "stream",
     "text": [
      "Number of unique words: 40114\n"
     ]
    }
   ],
   "source": [
    "all_words = raw_text.split()\n",
    "unique_words = list(set(all_words))\n",
    "print(f'Number of unique words: {len(unique_words)}')\n"
   ]
  },
  {
   "cell_type": "code",
   "execution_count": 6,
   "metadata": {
    "colab": {
     "base_uri": "https://localhost:8080/"
    },
    "executionInfo": {
     "elapsed": 12,
     "status": "ok",
     "timestamp": 1659444212214,
     "user": {
      "displayName": "mahdi karami",
      "userId": "04971533198241835395"
     },
     "user_tz": -270
    },
    "id": "hIX0wT4imaKG",
    "outputId": "9dff70f2-10cb-4c45-9e61-bc6cbeb74fe6"
   },
   "outputs": [
    {
     "name": "stdout",
     "output_type": "stream",
     "text": [
      "Total characters: 3227520\n"
     ]
    }
   ],
   "source": [
    "n_chars = len(raw_text)\n",
    "print(f'Total characters: {n_chars}')\n"
   ]
  },
  {
   "cell_type": "code",
   "execution_count": 7,
   "metadata": {
    "colab": {
     "base_uri": "https://localhost:8080/"
    },
    "executionInfo": {
     "elapsed": 11,
     "status": "ok",
     "timestamp": 1659444212215,
     "user": {
      "displayName": "mahdi karami",
      "userId": "04971533198241835395"
     },
     "user_tz": -270
    },
    "id": "Wb-g7Cw5meU5",
    "outputId": "cdf4ab6a-d4cd-4b50-f011-8ffd466e6f5d"
   },
   "outputs": [
    {
     "name": "stdout",
     "output_type": "stream",
     "text": [
      "Total vocabulary (unique characters): 83\n",
      "['\\n', ' ', '!', '\"', '#', '$', '%', \"'\", '(', ')', '*', ',', '-', '.', '/', '0', '1', '2', '3', '4', '5', '6', '7', '8', '9', ':', ';', '=', '?', '[', ']', 'a', 'b', 'c', 'd', 'e', 'f', 'g', 'h', 'i', 'j', 'k', 'l', 'm', 'n', 'o', 'p', 'q', 'r', 's', 't', 'u', 'v', 'w', 'x', 'y', 'z', 'à', 'á', 'â', 'ä', 'æ', 'ç', 'è', 'é', 'ê', 'ë', 'í', 'î', 'ï', 'ó', 'ô', 'ö', 'ú', 'ü', 'ý', 'œ', '—', '‘', '’', '“', '”', '\\ufeff']\n"
     ]
    }
   ],
   "source": [
    "chars = sorted(list(set(raw_text)))\n",
    "n_vocab = len(chars)\n",
    "print(f'Total vocabulary (unique characters): {n_vocab}')\n",
    "print(chars)\n"
   ]
  },
  {
   "cell_type": "code",
   "execution_count": 8,
   "metadata": {
    "colab": {
     "base_uri": "https://localhost:8080/"
    },
    "executionInfo": {
     "elapsed": 10,
     "status": "ok",
     "timestamp": 1659444212215,
     "user": {
      "displayName": "mahdi karami",
      "userId": "04971533198241835395"
     },
     "user_tz": -270
    },
    "id": "d0g5Lt-tm7Sn",
    "outputId": "38bde896-d1fe-4f4c-df1d-db76739ad795"
   },
   "outputs": [
    {
     "name": "stdout",
     "output_type": "stream",
     "text": [
      "{'\\n': 0, ' ': 1, '!': 2, '\"': 3, '#': 4, '$': 5, '%': 6, \"'\": 7, '(': 8, ')': 9, '*': 10, ',': 11, '-': 12, '.': 13, '/': 14, '0': 15, '1': 16, '2': 17, '3': 18, '4': 19, '5': 20, '6': 21, '7': 22, '8': 23, '9': 24, ':': 25, ';': 26, '=': 27, '?': 28, '[': 29, ']': 30, 'a': 31, 'b': 32, 'c': 33, 'd': 34, 'e': 35, 'f': 36, 'g': 37, 'h': 38, 'i': 39, 'j': 40, 'k': 41, 'l': 42, 'm': 43, 'n': 44, 'o': 45, 'p': 46, 'q': 47, 'r': 48, 's': 49, 't': 50, 'u': 51, 'v': 52, 'w': 53, 'x': 54, 'y': 55, 'z': 56, 'à': 57, 'á': 58, 'â': 59, 'ä': 60, 'æ': 61, 'ç': 62, 'è': 63, 'é': 64, 'ê': 65, 'ë': 66, 'í': 67, 'î': 68, 'ï': 69, 'ó': 70, 'ô': 71, 'ö': 72, 'ú': 73, 'ü': 74, 'ý': 75, 'œ': 76, '—': 77, '‘': 78, '’': 79, '“': 80, '”': 81, '\\ufeff': 82}\n"
     ]
    }
   ],
   "source": [
    "index_to_char = dict((i, c) for i, c in enumerate(chars))\n",
    "char_to_index = dict((c, i) for i, c in enumerate(chars))\n",
    "print(char_to_index)\n"
   ]
  },
  {
   "cell_type": "code",
   "execution_count": 9,
   "metadata": {
    "executionInfo": {
     "elapsed": 8,
     "status": "ok",
     "timestamp": 1659444212215,
     "user": {
      "displayName": "mahdi karami",
      "userId": "04971533198241835395"
     },
     "user_tz": -270
    },
    "id": "kB54ttVznHTj"
   },
   "outputs": [],
   "source": [
    "import numpy as np\n",
    "seq_length = 160\n",
    "n_seq = int(n_chars / seq_length)\n"
   ]
  },
  {
   "cell_type": "code",
   "execution_count": 10,
   "metadata": {
    "executionInfo": {
     "elapsed": 2294,
     "status": "ok",
     "timestamp": 1659444214501,
     "user": {
      "displayName": "mahdi karami",
      "userId": "04971533198241835395"
     },
     "user_tz": -270
    },
    "id": "gp429xS5nW_O"
   },
   "outputs": [],
   "source": [
    "X = np.zeros((n_seq, seq_length, n_vocab))\n",
    "Y = np.zeros((n_seq, seq_length, n_vocab))\n"
   ]
  },
  {
   "cell_type": "code",
   "execution_count": 11,
   "metadata": {
    "colab": {
     "base_uri": "https://localhost:8080/"
    },
    "executionInfo": {
     "elapsed": 3902,
     "status": "ok",
     "timestamp": 1659444218399,
     "user": {
      "displayName": "mahdi karami",
      "userId": "04971533198241835395"
     },
     "user_tz": -270
    },
    "id": "gzEpE0dZoWhq",
    "outputId": "0344d322-685f-4d2b-892a-c03edc71349f"
   },
   "outputs": [
    {
     "name": "stdout",
     "output_type": "stream",
     "text": [
      "final sentence\n"
     ]
    }
   ],
   "source": [
    "for i in range(n_seq):\n",
    "  x_sequence = raw_text[i * seq_length : (i + 1) * seq_length]\n",
    "  x_sequence_ohe = np.zeros((seq_length, n_vocab))\n",
    "  for j in range(seq_length):\n",
    "    char = x_sequence[j]\n",
    "    index = char_to_index[char]\n",
    "    x_sequence_ohe[j][index] = 1.\n",
    "  X[i] = x_sequence_ohe\n",
    "  y_sequence = raw_text[i * seq_length + 1 : (i + 1) * seq_length + 1] \n",
    "  y_sequence_ohe = np.zeros((seq_length, n_vocab))\n",
    "  for j in range(seq_length):\n",
    "    try:\n",
    "      char = y_sequence[j]\n",
    "    except:\n",
    "      # just for ignoring out of range error\n",
    "      print('final sentence')\n",
    "    index = char_to_index[char]\n",
    "    y_sequence_ohe[j][index] = 1.\n",
    "  Y[i] = y_sequence_ohe\n"
   ]
  },
  {
   "cell_type": "code",
   "execution_count": 12,
   "metadata": {
    "executionInfo": {
     "elapsed": 12,
     "status": "ok",
     "timestamp": 1659444218400,
     "user": {
      "displayName": "mahdi karami",
      "userId": "04971533198241835395"
     },
     "user_tz": -270
    },
    "id": "5oC-oggqraM5"
   },
   "outputs": [],
   "source": [
    "import tensorflow as tf\n",
    "from tensorflow.keras import layers, models, losses,optimizers\n",
    "tf.random.set_seed(42)\n"
   ]
  },
  {
   "cell_type": "code",
   "execution_count": 13,
   "metadata": {
    "executionInfo": {
     "elapsed": 12,
     "status": "ok",
     "timestamp": 1659444218400,
     "user": {
      "displayName": "mahdi karami",
      "userId": "04971533198241835395"
     },
     "user_tz": -270
    },
    "id": "PSVqjAJJreJC"
   },
   "outputs": [],
   "source": [
    "hidden_units = 700\n",
    "dropout = 0.4\n"
   ]
  },
  {
   "cell_type": "code",
   "execution_count": 14,
   "metadata": {
    "executionInfo": {
     "elapsed": 12,
     "status": "ok",
     "timestamp": 1659444218401,
     "user": {
      "displayName": "mahdi karami",
      "userId": "04971533198241835395"
     },
     "user_tz": -270
    },
    "id": "mlwuXDHbuGuV"
   },
   "outputs": [],
   "source": [
    "batch_size = 100\n",
    "n_epoch= 300"
   ]
  },
  {
   "cell_type": "code",
   "execution_count": 15,
   "metadata": {
    "executionInfo": {
     "elapsed": 3936,
     "status": "ok",
     "timestamp": 1659444222326,
     "user": {
      "displayName": "mahdi karami",
      "userId": "04971533198241835395"
     },
     "user_tz": -270
    },
    "id": "1eMD5VDLuLXM"
   },
   "outputs": [],
   "source": [
    "model = models.Sequential()\n",
    "model.add(layers.LSTM(hidden_units, input_shape=(None, n_vocab), return_sequences=True, dropout=dropout))\n",
    "model.add(layers.LSTM(hidden_units, return_sequences=True, dropout=dropout))\n",
    "model.add(layers.TimeDistributed(layers.Dense(n_vocab, activation='softmax')))\n"
   ]
  },
  {
   "cell_type": "code",
   "execution_count": 16,
   "metadata": {
    "colab": {
     "base_uri": "https://localhost:8080/"
    },
    "executionInfo": {
     "elapsed": 29,
     "status": "ok",
     "timestamp": 1659444222327,
     "user": {
      "displayName": "mahdi karami",
      "userId": "04971533198241835395"
     },
     "user_tz": -270
    },
    "id": "FsV8xRF0w5q1",
    "outputId": "6bf2564e-0542-423a-f976-73ea2df82448"
   },
   "outputs": [
    {
     "name": "stderr",
     "output_type": "stream",
     "text": [
      "/usr/local/lib/python3.7/dist-packages/keras/optimizer_v2/rmsprop.py:130: UserWarning: The `lr` argument is deprecated, use `learning_rate` instead.\n",
      "  super(RMSprop, self).__init__(name, **kwargs)\n"
     ]
    }
   ],
   "source": [
    "optimizer = optimizers.RMSprop(lr=0.001)\n",
    "model.compile(loss=\"categorical_crossentropy\", optimizer=optimizer)\n"
   ]
  },
  {
   "cell_type": "code",
   "execution_count": 17,
   "metadata": {
    "colab": {
     "base_uri": "https://localhost:8080/"
    },
    "executionInfo": {
     "elapsed": 28,
     "status": "ok",
     "timestamp": 1659444222328,
     "user": {
      "displayName": "mahdi karami",
      "userId": "04971533198241835395"
     },
     "user_tz": -270
    },
    "id": "NT41ex1bw-cS",
    "outputId": "b632b511-9263-4508-8f29-14c519e58988"
   },
   "outputs": [
    {
     "name": "stdout",
     "output_type": "stream",
     "text": [
      "Model: \"sequential\"\n",
      "_________________________________________________________________\n",
      " Layer (type)                Output Shape              Param #   \n",
      "=================================================================\n",
      " lstm (LSTM)                 (None, None, 700)         2195200   \n",
      "                                                                 \n",
      " lstm_1 (LSTM)               (None, None, 700)         3922800   \n",
      "                                                                 \n",
      " time_distributed (TimeDistr  (None, None, 83)         58183     \n",
      " ibuted)                                                         \n",
      "                                                                 \n",
      "=================================================================\n",
      "Total params: 6,176,183\n",
      "Trainable params: 6,176,183\n",
      "Non-trainable params: 0\n",
      "_________________________________________________________________\n",
      "None\n"
     ]
    }
   ],
   "source": [
    "print(model.summary())\n"
   ]
  },
  {
   "cell_type": "code",
   "execution_count": 18,
   "metadata": {
    "executionInfo": {
     "elapsed": 20,
     "status": "ok",
     "timestamp": 1659444222328,
     "user": {
      "displayName": "mahdi karami",
      "userId": "04971533198241835395"
     },
     "user_tz": -270
    },
    "id": "gYCwCgiHxYPX"
   },
   "outputs": [],
   "source": [
    "from tensorflow.keras.callbacks import Callback, ModelCheckpoint, EarlyStopping\n"
   ]
  },
  {
   "cell_type": "code",
   "execution_count": 19,
   "metadata": {
    "executionInfo": {
     "elapsed": 21,
     "status": "ok",
     "timestamp": 1659444222330,
     "user": {
      "displayName": "mahdi karami",
      "userId": "04971533198241835395"
     },
     "user_tz": -270
    },
    "id": "XviTsKdrxdTW"
   },
   "outputs": [],
   "source": [
    "file_path = \"/content/drive/MyDrive/all/ML/weights/weights_epoch_{epoch:03d}_loss_{loss:.4f}.hdf5\"\n",
    "checkpoint = ModelCheckpoint(file_path, monitor='loss', verbose=1, save_best_only=True, mode='min')\n"
   ]
  },
  {
   "cell_type": "code",
   "execution_count": 20,
   "metadata": {
    "executionInfo": {
     "elapsed": 21,
     "status": "ok",
     "timestamp": 1659444222330,
     "user": {
      "displayName": "mahdi karami",
      "userId": "04971533198241835395"
     },
     "user_tz": -270
    },
    "id": "DzFddJz_xsd5"
   },
   "outputs": [],
   "source": [
    "early_stop = EarlyStopping(monitor='loss', min_delta=0, patience=50, verbose=1, mode='min')\n"
   ]
  },
  {
   "cell_type": "code",
   "execution_count": 21,
   "metadata": {
    "executionInfo": {
     "elapsed": 22,
     "status": "ok",
     "timestamp": 1659444222331,
     "user": {
      "displayName": "mahdi karami",
      "userId": "04971533198241835395"
     },
     "user_tz": -270
    },
    "id": "1qVfJLszx04f"
   },
   "outputs": [],
   "source": [
    "def generate_text(model, gen_length, n_vocab, index_to_char):\n",
    "  index = np.random.randint(n_vocab)\n",
    "  y_char = [index_to_char[index]]\n",
    "  X = np.zeros((1, gen_length, n_vocab))\n",
    "  for i in range(gen_length):\n",
    "    X[0, i, index] = 1.\n",
    "    indices = np.argmax(model.predict( X[:, max(0, i - seq_length -1):i + 1, :])[0], 1)\n",
    "    index = indices[-1]\n",
    "    y_char.append(index_to_char[index])\n",
    "  return ''.join(y_char)\n",
    "\n"
   ]
  },
  {
   "cell_type": "code",
   "execution_count": 22,
   "metadata": {
    "executionInfo": {
     "elapsed": 21,
     "status": "ok",
     "timestamp": 1659444222331,
     "user": {
      "displayName": "mahdi karami",
      "userId": "04971533198241835395"
     },
     "user_tz": -270
    },
    "id": "rA2lNqB7ypKn"
   },
   "outputs": [],
   "source": [
    "class ResultChecker(Callback):\n",
    "  def __init__(self, model, N, gen_length):\n",
    "    self.model = model\n",
    "    self.N = N\n",
    "    self.gen_length = gen_length\n",
    "    \n",
    "  def on_epoch_end(self, epoch, logs={}):\n",
    "    if epoch % self.N == 0:\n",
    "      result = generate_text(self.model, self.gen_length, n_vocab, index_to_char)\n",
    "      print('\\nMy War and Peace:\\n' + result)\n"
   ]
  },
  {
   "cell_type": "code",
   "execution_count": 23,
   "metadata": {
    "executionInfo": {
     "elapsed": 22,
     "status": "ok",
     "timestamp": 1659444222332,
     "user": {
      "displayName": "mahdi karami",
      "userId": "04971533198241835395"
     },
     "user_tz": -270
    },
    "id": "5FnTmq89zAcc"
   },
   "outputs": [],
   "source": [
    "result_checker = ResultChecker(model, 10, 500)"
   ]
  },
  {
   "cell_type": "code",
   "execution_count": null,
   "metadata": {
    "colab": {
     "base_uri": "https://localhost:8080/"
    },
    "id": "khnwD9MxzI9e",
    "outputId": "db0ef408-32e6-47ff-cd88-d41a3aca52f1"
   },
   "outputs": [
    {
     "name": "stdout",
     "output_type": "stream",
     "text": [
      "--- Starting trial: run-0\n",
      "{'hidden_size': 300, 'epochs': 10, 'learning_rate': 0.1}\n"
     ]
    }
   ],
   "source": [
    "from tensorboard.plugins.hparams import api as hp\n",
    "from sklearn.model_selection import train_test_split\n",
    "\n",
    "X_train, X_test, y_train, y_test = train_test_split(X, Y, test_size=0.33)\n",
    "HP_HIDDEN = hp.HParam('hidden_size', hp.Discrete([300, 700]))\n",
    "HP_EPOCHS = hp.HParam('epochs', hp.Discrete([10, 20]))\n",
    "HP_LEARNING_RATE = hp.HParam('learning_rate', hp.RealInterval(0.1, 0.4))\n",
    "\n",
    "def train_test_model(hparams, logdir):\n",
    "    model = models.Sequential()\n",
    "    model.add(layers.LSTM(hidden_units, input_shape=(None, n_vocab), return_sequences=True, dropout=dropout))\n",
    "    model.add(layers.LSTM(hidden_units, return_sequences=True, dropout=dropout))\n",
    "    model.add(layers.TimeDistributed(layers.Dense(n_vocab, activation='softmax')))\n",
    "    model.compile(loss='mean_squared_error',\n",
    "    optimizer=tf.keras.optimizers.Adam(hparams[HP_LEARNING_RATE]), metrics=['mean_squared_error'])\n",
    "    model.fit(X_train, y_train, validation_data=(X_test, y_test), epochs=hparams[HP_EPOCHS])\n",
    "    _, mse = model.evaluate(X_test, y_test, verbose=2)\n",
    "    pred = model.predict(X_test)\n",
    "    r2 = r2_score(y_test, pred)\n",
    "    return mse, r2\n",
    "\n",
    "def run(hparams, logdir):\n",
    "    with tf.summary.create_file_writer(logdir).as_default():\n",
    "        hp.hparams_config(hparams=[HP_HIDDEN, HP_EPOCHS, HP_LEARNING_RATE], metrics=[hp.Metric('mean_squared_error', display_name='mse'), hp.Metric('r2', display_name='r2')],)\n",
    "    mse, r2 = train_test_model(hparams, logdir)\n",
    "    tf.summary.scalar('mean_squared_error', mse, step=1)\n",
    "    tf.summary.scalar('r2', r2, step=1)\n",
    "\n",
    "from tensorflow.keras import Sequential\n",
    "from tensorflow.keras.layers import Dense\n",
    "from sklearn.metrics import mean_squared_error, mean_absolute_error, r2_score\n",
    "session_num = 0\n",
    "for hidden in HP_HIDDEN.domain.values:\n",
    "    for epochs in HP_EPOCHS.domain.values:\n",
    "        for learning_rate in tf.linspace(HP_LEARNING_RATE.domain.min_value, HP_LEARNING_RATE.domain.max_value, 5):\n",
    "            hparams = {HP_HIDDEN: hidden, HP_EPOCHS: epochs, HP_LEARNING_RATE: float(\"%.2f\"%float(learning_rate)), }\n",
    "            run_name = \"run-%d\" % session_num\n",
    "            print('--- Starting trial: %s' % run_name)\n",
    "            print({h.name: hparams[h] for h in hparams})\n",
    "            run(hparams, 'logs/hparam_tuning/' + run_name)\n",
    "            session_num += 1"
   ]
  }
 ],
 "metadata": {
  "accelerator": "GPU",
  "colab": {
   "authorship_tag": "ABX9TyPz6oi+WL0dYh+90Pq5Q3M3",
   "collapsed_sections": [],
   "name": "رونوشت HW2.ipynb",
   "provenance": []
  },
  "gpuClass": "standard",
  "kernelspec": {
   "display_name": "Python 3",
   "language": "python",
   "name": "python3"
  },
  "language_info": {
   "codemirror_mode": {
    "name": "ipython",
    "version": 3
   },
   "file_extension": ".py",
   "mimetype": "text/x-python",
   "name": "python",
   "nbconvert_exporter": "python",
   "pygments_lexer": "ipython3",
   "version": "3.8.8"
  }
 },
 "nbformat": 4,
 "nbformat_minor": 1
}
